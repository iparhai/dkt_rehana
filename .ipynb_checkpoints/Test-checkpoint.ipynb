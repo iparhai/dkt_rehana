{
 "cells": [
  {
   "cell_type": "code",
   "execution_count": 2,
   "id": "6a671193",
   "metadata": {},
   "outputs": [],
   "source": [
    "import pandas as pd\n",
    "import numpy as np"
   ]
  },
  {
   "cell_type": "code",
   "execution_count": 4,
   "id": "be83f139",
   "metadata": {},
   "outputs": [
    {
     "name": "stdout",
     "output_type": "stream",
     "text": [
      "     0.0  1.0  2.0  3.0  4.0  5.0  6.0  7.0  8.0  9.0  ...  113.0  114.0  \\\n",
      "0    0.0  1.0  1.0  0.0  1.0  1.0  1.0  0.0  1.0  1.0  ...    0.0    0.0   \n",
      "1    0.0  0.0  1.0  1.0  1.0  1.0  1.0  1.0  1.0  1.0  ...    0.0    0.0   \n",
      "2    0.0  0.0  0.0  1.0  1.0  1.0  1.0  0.0  0.0  1.0  ...    0.0    0.0   \n",
      "3    0.0  0.0  0.0  0.0  1.0  1.0  1.0  0.0  0.0  1.0  ...    0.0    0.0   \n",
      "4    0.0  0.0  0.0  0.0  0.0  1.0  1.0  1.0  1.0  0.0  ...    0.0    0.0   \n",
      "..   ...  ...  ...  ...  ...  ...  ...  ...  ...  ...  ...    ...    ...   \n",
      "118  0.0  0.0  0.0  0.0  0.0  0.0  0.0  0.0  0.0  0.0  ...    0.0    0.0   \n",
      "119  0.0  0.0  0.0  0.0  0.0  0.0  0.0  0.0  0.0  0.0  ...    0.0    0.0   \n",
      "120  0.0  0.0  0.0  0.0  0.0  0.0  0.0  0.0  0.0  0.0  ...    0.0    0.0   \n",
      "121  0.0  0.0  0.0  0.0  0.0  0.0  0.0  0.0  0.0  0.0  ...    0.0    0.0   \n",
      "122  0.0  0.0  0.0  0.0  0.0  0.0  0.0  0.0  0.0  0.0  ...    0.0    0.0   \n",
      "\n",
      "     115.0  116.0  117.0  118.0  119.0  120.0  121.0  122.0  \n",
      "0      0.0    0.0    0.0    0.0    0.0    0.0    0.0    0.0  \n",
      "1      0.0    0.0    0.0    0.0    0.0    0.0    0.0    0.0  \n",
      "2      0.0    0.0    0.0    0.0    0.0    0.0    0.0    0.0  \n",
      "3      0.0    0.0    0.0    0.0    0.0    0.0    0.0    0.0  \n",
      "4      0.0    0.0    0.0    0.0    0.0    0.0    0.0    0.0  \n",
      "..     ...    ...    ...    ...    ...    ...    ...    ...  \n",
      "118    0.0    0.0    0.0    0.0    0.0    1.0    0.0    1.0  \n",
      "119    0.0    0.0    0.0    0.0    0.0    0.0    1.0    0.0  \n",
      "120    0.0    0.0    0.0    0.0    0.0    0.0    0.0    1.0  \n",
      "121    0.0    0.0    0.0    0.0    0.0    0.0    0.0    0.0  \n",
      "122    0.0    0.0    0.0    0.0    0.0    0.0    0.0    0.0  \n",
      "\n",
      "[123 rows x 123 columns]\n"
     ]
    }
   ],
   "source": [
    "df1 = pd.read_csv(\"./gkt_matrix.csv\")\n",
    "print(df1)"
   ]
  },
  {
   "cell_type": "code",
   "execution_count": 54,
   "id": "5287a49f",
   "metadata": {},
   "outputs": [],
   "source": [
    "# np.where(~df1.any(axis=1))[0]"
   ]
  },
  {
   "cell_type": "code",
   "execution_count": 18,
   "id": "ffa62fad",
   "metadata": {},
   "outputs": [
    {
     "name": "stdout",
     "output_type": "stream",
     "text": [
      "Index(['order_id', 'assignment_id', 'user_id', 'assistment_id', 'problem_id',\n",
      "       'original', 'correct', 'attempt_count', 'ms_first_response',\n",
      "       'tutor_mode', 'answer_type', 'sequence_id', 'student_class_id',\n",
      "       'position', 'type', 'base_sequence_id', 'skill_id', 'skill_name',\n",
      "       'teacher_id', 'school_id', 'hint_count', 'hint_total', 'overlap_time',\n",
      "       'template_id', 'answer_id', 'answer_text', 'first_action',\n",
      "       'bottom_hint', 'opportunity', 'opportunity_original'],\n",
      "      dtype='object')\n"
     ]
    },
    {
     "name": "stderr",
     "output_type": "stream",
     "text": [
      "/home/fast/.local/lib/python3.8/site-packages/IPython/core/interactiveshell.py:3169: DtypeWarning: Columns (17) have mixed types.Specify dtype option on import or set low_memory=False.\n",
      "  has_raised = await self.run_ast_nodes(code_ast.body, cell_name,\n"
     ]
    }
   ],
   "source": [
    "df2 = pd.read_csv(\"./skill_builder_data.csv\")\n",
    "print(df2.columns)"
   ]
  },
  {
   "cell_type": "code",
   "execution_count": 45,
   "id": "f2b630c8",
   "metadata": {},
   "outputs": [],
   "source": [
    "select = df2[['user_id', 'problem_id', 'correct', 'skill_id', 'skill_name']]\n",
    "#df = select[select['skill_name'].isnull()]\n",
    "#df = select[select.isna().any(axis=1)]\n",
    "df = select.dropna(axis=0)"
   ]
  },
  {
   "cell_type": "code",
   "execution_count": 46,
   "id": "b0965778",
   "metadata": {},
   "outputs": [],
   "source": [
    "skill = df.skill_name.unique()\n",
    "skill_id = range(len(skill))\n",
    "skill_id_map = dict(zip(skill, skill_id))"
   ]
  },
  {
   "cell_type": "code",
   "execution_count": 49,
   "id": "9d0ebb9f",
   "metadata": {},
   "outputs": [
    {
     "data": {
      "text/plain": [
       "{'Box and Whisker': 0,\n",
       " 'Circle Graph': 1,\n",
       " 'Histogram as Table or Graph': 2,\n",
       " 'Number Line': 3,\n",
       " 'Scatter Plot': 4,\n",
       " 'Stem and Leaf Plot': 5,\n",
       " 'Table': 6,\n",
       " 'Venn Diagram': 7,\n",
       " 'Mean': 8,\n",
       " 'Median': 9,\n",
       " 'Mode': 10,\n",
       " 'Range': 11,\n",
       " 'Counting Methods': 12,\n",
       " 'Probability of Two Distinct Events': 13,\n",
       " 'Probability of a Single Event': 14,\n",
       " 'Interior Angles Figures with More than 3 Sides': 15,\n",
       " 'Interior Angles Triangle': 16,\n",
       " 'Congruence': 17,\n",
       " 'Complementary and Supplementary Angles': 18,\n",
       " 'Angles on Parallel Lines Cut by a Transversal': 19,\n",
       " 'Pythagorean Theorem': 20,\n",
       " 'Nets of 3D Figures': 21,\n",
       " 'Unit Conversion Within a System': 22,\n",
       " 'Effect of Changing Dimensions of a Shape Prportionally': 23,\n",
       " 'Area Circle': 24,\n",
       " 'Circumference ': 25,\n",
       " 'Perimeter of a Polygon': 26,\n",
       " 'Reading a Ruler or Scale': 27,\n",
       " 'Calculations with Similar Figures': 28,\n",
       " 'Conversion of Fraction Decimals Percents': 29,\n",
       " 'Equivalent Fractions': 30,\n",
       " 'Ordering Positive Decimals': 31,\n",
       " 'Ordering Fractions': 32,\n",
       " 'Ordering Integers': 33,\n",
       " 'Ordering Real Numbers': 34,\n",
       " 'Rounding': 35,\n",
       " 'Addition Whole Numbers': 36,\n",
       " 'Division Fractions': 37,\n",
       " 'Estimation': 38,\n",
       " 'Fraction Of': 39,\n",
       " 'Least Common Multiple': 40,\n",
       " 'Multiplication Fractions': 41,\n",
       " 'Multiplication Whole Numbers': 42,\n",
       " 'Percent Of': 43,\n",
       " 'Subtraction Whole Numbers': 44,\n",
       " 'Square Root': 45,\n",
       " 'Finding Percents': 46,\n",
       " 'Proportion': 47,\n",
       " 'Scale Factor': 48,\n",
       " 'Unit Rate': 49,\n",
       " 'Scientific Notation': 50,\n",
       " 'Divisibility Rules': 51,\n",
       " 'Prime Number': 52,\n",
       " 'Absolute Value': 53,\n",
       " 'Exponents': 54,\n",
       " 'Pattern Finding ': 55,\n",
       " 'D.4.8-understanding-concept-of-probabilities': 56,\n",
       " 'Algebraic Simplification': 57,\n",
       " 'Algebraic Solving': 58,\n",
       " 'Choose an Equation from Given Information': 59,\n",
       " 'Intercept': 60,\n",
       " 'Linear Equations': 61,\n",
       " 'Percent Discount': 62,\n",
       " 'Percents': 63,\n",
       " 'Rate': 64,\n",
       " 'Slope': 65,\n",
       " 'Multiplication and Division Positive Decimals': 66,\n",
       " 'Addition and Subtraction Integers': 67,\n",
       " 'Addition and Subtraction Positive Decimals': 68,\n",
       " 'Multiplication and Division Integers': 69,\n",
       " 'Addition and Subtraction Fractions': 70,\n",
       " 'Reflection': 71,\n",
       " 'Rotations': 72,\n",
       " 'Translations': 73,\n",
       " 'Area Irregular Figure': 74,\n",
       " 'Area Parallelogram': 75,\n",
       " 'Area Rectangle': 76,\n",
       " 'Area Trapezoid': 77,\n",
       " 'Area Triangle': 78,\n",
       " 'Surface Area Cylinder': 79,\n",
       " 'Surface Area Rectangular Prism': 80,\n",
       " 'Volume Cylinder': 81,\n",
       " 'Volume Rectangular Prism': 82,\n",
       " 'Volume Sphere': 83,\n",
       " 'Order of Operations +,-,/,* () positive reals': 84,\n",
       " 'Order of Operations All': 85,\n",
       " 'Equation Solving Two or Fewer Steps': 86,\n",
       " 'Equation Solving More Than Two Steps': 87,\n",
       " 'Angles - Obtuse, Acute, and Right': 88,\n",
       " 'Greatest Common Factor': 89,\n",
       " 'Computation with Real Numbers': 90,\n",
       " 'Write Linear Equation from Ordered Pairs': 91,\n",
       " 'Write Linear Equation from Situation': 92,\n",
       " 'Recognize Linear Pattern': 93,\n",
       " 'Write Linear Equation from Graph': 94,\n",
       " 'Finding Slope From Situation': 95,\n",
       " 'Finding Slope From Equation': 96,\n",
       " 'Finding Slope from Ordered Pairs': 97,\n",
       " 'Distributive Property': 98,\n",
       " 'Midpoint': 99,\n",
       " 'Polynomial Factors': 100,\n",
       " 'Recognize Quadratic Pattern': 101,\n",
       " 'Solving Systems of Linear Equations': 102,\n",
       " 'Quadratic Formula to Solve Quadratic Equation': 103,\n",
       " 'Parts of a Polyomial, Terms, Coefficient, Monomial, Exponent, Variable': 104,\n",
       " 'Interpreting Coordinate Graphs ': 105,\n",
       " 'Solving for a variable': 106,\n",
       " 'Simplifying Expressions positive exponents': 107,\n",
       " 'Solving Inequalities': 108,\n",
       " 'Solving Systems of Linear Equations by Graphing': 109}"
      ]
     },
     "execution_count": 49,
     "metadata": {},
     "output_type": "execute_result"
    }
   ],
   "source": [
    "skill_id_map"
   ]
  },
  {
   "cell_type": "code",
   "execution_count": 50,
   "id": "8af8bc25",
   "metadata": {},
   "outputs": [],
   "source": [
    "df3 = df[['user_id', 'problem_id', 'correct', 'skill_name']]\n",
    "df3['sid'] = df3['skill_name'].apply(lambda x: skill_id_map[x])\n",
    "assess = df3[['user_id', 'problem_id', 'correct', 'sid', 'skill_name']]"
   ]
  },
  {
   "cell_type": "code",
   "execution_count": 51,
   "id": "716c29a1",
   "metadata": {},
   "outputs": [
    {
     "data": {
      "text/plain": [
       "user_id        4151\n",
       "problem_id    16891\n",
       "correct           2\n",
       "sid             110\n",
       "skill_name      110\n",
       "dtype: int64"
      ]
     },
     "execution_count": 51,
     "metadata": {},
     "output_type": "execute_result"
    }
   ],
   "source": [
    "assess.nunique()"
   ]
  },
  {
   "cell_type": "code",
   "execution_count": null,
   "id": "2e7d68c9",
   "metadata": {},
   "outputs": [],
   "source": []
  }
 ],
 "metadata": {
  "kernelspec": {
   "display_name": "Python 3 (ipykernel)",
   "language": "python",
   "name": "python3"
  },
  "language_info": {
   "codemirror_mode": {
    "name": "ipython",
    "version": 3
   },
   "file_extension": ".py",
   "mimetype": "text/x-python",
   "name": "python",
   "nbconvert_exporter": "python",
   "pygments_lexer": "ipython3",
   "version": "3.8.10"
  }
 },
 "nbformat": 4,
 "nbformat_minor": 5
}
