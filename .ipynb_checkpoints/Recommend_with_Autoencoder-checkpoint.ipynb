{
 "cells": [
  {
   "cell_type": "code",
   "execution_count": 1,
   "id": "e785b5e6",
   "metadata": {
    "id": "e785b5e6"
   },
   "outputs": [],
   "source": [
    "import numpy as np\n",
    "import pandas as pd\n",
    "from scipy import sparse\n",
    "import argparse\n",
    "import os\n",
    "from sklearn.model_selection import train_test_split\n",
    "from collections import Counter\n",
    "import requests\n",
    "import io"
   ]
  },
  {
   "cell_type": "code",
   "execution_count": 2,
   "id": "a0b788e2",
   "metadata": {
    "colab": {
     "base_uri": "https://localhost:8080/",
     "height": 345
    },
    "id": "a0b788e2",
    "outputId": "04692565-e9cc-43f2-81de-ccd7a4d63ea4"
   },
   "outputs": [
    {
     "name": "stdout",
     "output_type": "stream",
     "text": [
      "Index(['order_id', 'assignment_id', 'user_id', 'assistment_id', 'problem_id',\n",
      "       'original', 'correct', 'attempt_count', 'ms_first_response',\n",
      "       'tutor_mode', 'answer_type', 'sequence_id', 'student_class_id',\n",
      "       'position', 'type', 'base_sequence_id', 'skill_id', 'skill_name',\n",
      "       'teacher_id', 'school_id', 'hint_count', 'hint_total', 'overlap_time',\n",
      "       'template_id', 'answer_id', 'answer_text', 'first_action',\n",
      "       'bottom_hint', 'opportunity', 'opportunity_original'],\n",
      "      dtype='object')\n"
     ]
    },
    {
     "name": "stderr",
     "output_type": "stream",
     "text": [
      "C:\\Users\\FAST\\anaconda3\\lib\\site-packages\\IPython\\core\\interactiveshell.py:3444: DtypeWarning: Columns (17) have mixed types.Specify dtype option on import or set low_memory=False.\n",
      "  exec(code_obj, self.user_global_ns, self.user_ns)\n"
     ]
    }
   ],
   "source": [
    "df = pd.read_csv('./skill_builder_data.csv')\n",
    "print(df.columns)"
   ]
  },
  {
   "cell_type": "code",
   "execution_count": 3,
   "id": "3b602a43",
   "metadata": {},
   "outputs": [],
   "source": [
    "df1 = df[['UserId', 'QuestionId', 'IsCorrect', 'CorrectAnswer',\n",
    "       'AnswerValue', 'SubjectId']]"
   ]
  },
  {
   "cell_type": "code",
   "execution_count": 4,
   "id": "d30e0bcc",
   "metadata": {},
   "outputs": [
    {
     "data": {
      "text/plain": [
       "(15867850, 6)"
      ]
     },
     "execution_count": 4,
     "metadata": {},
     "output_type": "execute_result"
    }
   ],
   "source": [
    "df1.shape"
   ]
  },
  {
   "cell_type": "code",
   "execution_count": 5,
   "id": "43ca0767",
   "metadata": {},
   "outputs": [],
   "source": [
    "df2 = df1[[\"UserId\", \"SubjectId\", \"QuestionId\", \"IsCorrect\"]]"
   ]
  },
  {
   "cell_type": "code",
   "execution_count": 6,
   "id": "8e798253",
   "metadata": {},
   "outputs": [
    {
     "data": {
      "text/html": [
       "<div>\n",
       "<style scoped>\n",
       "    .dataframe tbody tr th:only-of-type {\n",
       "        vertical-align: middle;\n",
       "    }\n",
       "\n",
       "    .dataframe tbody tr th {\n",
       "        vertical-align: top;\n",
       "    }\n",
       "\n",
       "    .dataframe thead th {\n",
       "        text-align: right;\n",
       "    }\n",
       "</style>\n",
       "<table border=\"1\" class=\"dataframe\">\n",
       "  <thead>\n",
       "    <tr style=\"text-align: right;\">\n",
       "      <th></th>\n",
       "      <th>UserId</th>\n",
       "      <th>SubjectId</th>\n",
       "      <th>QuestionId</th>\n",
       "      <th>IsCorrect</th>\n",
       "    </tr>\n",
       "  </thead>\n",
       "  <tbody>\n",
       "    <tr>\n",
       "      <th>6422064</th>\n",
       "      <td>0</td>\n",
       "      <td>[3, 101, 111, 348]</td>\n",
       "      <td>19386</td>\n",
       "      <td>1</td>\n",
       "    </tr>\n",
       "    <tr>\n",
       "      <th>6429697</th>\n",
       "      <td>0</td>\n",
       "      <td>[3, 101, 111, 348]</td>\n",
       "      <td>11159</td>\n",
       "      <td>0</td>\n",
       "    </tr>\n",
       "    <tr>\n",
       "      <th>6435928</th>\n",
       "      <td>0</td>\n",
       "      <td>[3, 101, 111, 348]</td>\n",
       "      <td>23305</td>\n",
       "      <td>1</td>\n",
       "    </tr>\n",
       "    <tr>\n",
       "      <th>6445218</th>\n",
       "      <td>0</td>\n",
       "      <td>[3, 101, 111, 348]</td>\n",
       "      <td>8878</td>\n",
       "      <td>0</td>\n",
       "    </tr>\n",
       "    <tr>\n",
       "      <th>6509286</th>\n",
       "      <td>0</td>\n",
       "      <td>[3, 101, 111, 348]</td>\n",
       "      <td>110</td>\n",
       "      <td>0</td>\n",
       "    </tr>\n",
       "    <tr>\n",
       "      <th>6548263</th>\n",
       "      <td>0</td>\n",
       "      <td>[3, 101, 111, 348]</td>\n",
       "      <td>23685</td>\n",
       "      <td>1</td>\n",
       "    </tr>\n",
       "    <tr>\n",
       "      <th>6549429</th>\n",
       "      <td>0</td>\n",
       "      <td>[3, 101, 111, 348]</td>\n",
       "      <td>18808</td>\n",
       "      <td>0</td>\n",
       "    </tr>\n",
       "    <tr>\n",
       "      <th>6552783</th>\n",
       "      <td>0</td>\n",
       "      <td>[3, 101, 111, 348]</td>\n",
       "      <td>19265</td>\n",
       "      <td>1</td>\n",
       "    </tr>\n",
       "    <tr>\n",
       "      <th>6557123</th>\n",
       "      <td>0</td>\n",
       "      <td>[3, 101, 111, 348]</td>\n",
       "      <td>21405</td>\n",
       "      <td>0</td>\n",
       "    </tr>\n",
       "    <tr>\n",
       "      <th>9532594</th>\n",
       "      <td>0</td>\n",
       "      <td>[3, 101, 111, 348]</td>\n",
       "      <td>5407</td>\n",
       "      <td>1</td>\n",
       "    </tr>\n",
       "    <tr>\n",
       "      <th>9556048</th>\n",
       "      <td>0</td>\n",
       "      <td>[3, 101, 111, 348]</td>\n",
       "      <td>27288</td>\n",
       "      <td>0</td>\n",
       "    </tr>\n",
       "    <tr>\n",
       "      <th>11890064</th>\n",
       "      <td>0</td>\n",
       "      <td>[3, 101, 111, 348]</td>\n",
       "      <td>14715</td>\n",
       "      <td>1</td>\n",
       "    </tr>\n",
       "  </tbody>\n",
       "</table>\n",
       "</div>"
      ],
      "text/plain": [
       "          UserId           SubjectId  QuestionId  IsCorrect\n",
       "6422064        0  [3, 101, 111, 348]       19386          1\n",
       "6429697        0  [3, 101, 111, 348]       11159          0\n",
       "6435928        0  [3, 101, 111, 348]       23305          1\n",
       "6445218        0  [3, 101, 111, 348]        8878          0\n",
       "6509286        0  [3, 101, 111, 348]         110          0\n",
       "6548263        0  [3, 101, 111, 348]       23685          1\n",
       "6549429        0  [3, 101, 111, 348]       18808          0\n",
       "6552783        0  [3, 101, 111, 348]       19265          1\n",
       "6557123        0  [3, 101, 111, 348]       21405          0\n",
       "9532594        0  [3, 101, 111, 348]        5407          1\n",
       "9556048        0  [3, 101, 111, 348]       27288          0\n",
       "11890064       0  [3, 101, 111, 348]       14715          1"
      ]
     },
     "execution_count": 6,
     "metadata": {},
     "output_type": "execute_result"
    }
   ],
   "source": [
    "select_rows = df2.loc[(df2['SubjectId'] == '[3, 101, 111, 348]')\n",
    "                           & (df2['UserId'] == 0)]\n",
    "select_rows"
   ]
  },
  {
   "cell_type": "code",
   "execution_count": 7,
   "id": "ecc93857",
   "metadata": {},
   "outputs": [],
   "source": [
    "#df1['skill'].unique()"
   ]
  },
  {
   "cell_type": "code",
   "execution_count": 8,
   "id": "382984e4",
   "metadata": {
    "id": "382984e4"
   },
   "outputs": [
    {
     "name": "stdout",
     "output_type": "stream",
     "text": [
      "UserId        0\n",
      "SubjectId     0\n",
      "QuestionId    0\n",
      "IsCorrect     0\n",
      "dtype: int64\n"
     ]
    }
   ],
   "source": [
    "print(df2.isnull().sum())"
   ]
  },
  {
   "cell_type": "code",
   "execution_count": 9,
   "id": "567f1dbc",
   "metadata": {
    "id": "567f1dbc"
   },
   "outputs": [],
   "source": [
    "#df2 = df1.dropna(axis = 0, subset=['skill'])"
   ]
  },
  {
   "cell_type": "code",
   "execution_count": 10,
   "id": "d75a121b",
   "metadata": {},
   "outputs": [],
   "source": [
    "#pred_df = pd.read_csv(\"/home/fast/Desktop/pred_df.csv\")\n",
    "#pred_df"
   ]
  },
  {
   "cell_type": "code",
   "execution_count": 11,
   "id": "d73a8f89",
   "metadata": {
    "id": "d73a8f89"
   },
   "outputs": [],
   "source": [
    "#combine_content_rating = df1.dropna(axis = 0, subset = ['skill'])"
   ]
  },
  {
   "cell_type": "code",
   "execution_count": 12,
   "id": "3a2c3533",
   "metadata": {},
   "outputs": [],
   "source": [
    "# Group interations by user_id and SubjectId\n",
    "interactions = (df2.\n",
    "     groupby(by = ['UserId', 'SubjectId']).\n",
    "     sum()['IsCorrect'].\n",
    "     reset_index()\n",
    "#     rename(columns = {'IsCorrect': 'Rating'})\n",
    "#     [['UserId', 'SubjectId', 'Name', 'Rating']]\n",
    "    )"
   ]
  },
  {
   "cell_type": "code",
   "execution_count": 13,
   "id": "ec1434ae",
   "metadata": {},
   "outputs": [
    {
     "data": {
      "text/html": [
       "<div>\n",
       "<style scoped>\n",
       "    .dataframe tbody tr th:only-of-type {\n",
       "        vertical-align: middle;\n",
       "    }\n",
       "\n",
       "    .dataframe tbody tr th {\n",
       "        vertical-align: top;\n",
       "    }\n",
       "\n",
       "    .dataframe thead th {\n",
       "        text-align: right;\n",
       "    }\n",
       "</style>\n",
       "<table border=\"1\" class=\"dataframe\">\n",
       "  <thead>\n",
       "    <tr style=\"text-align: right;\">\n",
       "      <th></th>\n",
       "      <th>UserId</th>\n",
       "      <th>SubjectId</th>\n",
       "      <th>IsCorrect</th>\n",
       "    </tr>\n",
       "  </thead>\n",
       "  <tbody>\n",
       "    <tr>\n",
       "      <th>0</th>\n",
       "      <td>0</td>\n",
       "      <td>[3, 101, 111, 348]</td>\n",
       "      <td>6</td>\n",
       "    </tr>\n",
       "    <tr>\n",
       "      <th>1</th>\n",
       "      <td>0</td>\n",
       "      <td>[3, 101, 112, 348]</td>\n",
       "      <td>0</td>\n",
       "    </tr>\n",
       "    <tr>\n",
       "      <th>2</th>\n",
       "      <td>0</td>\n",
       "      <td>[3, 101, 113, 337]</td>\n",
       "      <td>2</td>\n",
       "    </tr>\n",
       "    <tr>\n",
       "      <th>3</th>\n",
       "      <td>0</td>\n",
       "      <td>[3, 101, 342, 1650]</td>\n",
       "      <td>1</td>\n",
       "    </tr>\n",
       "    <tr>\n",
       "      <th>4</th>\n",
       "      <td>0</td>\n",
       "      <td>[3, 101, 348, 349]</td>\n",
       "      <td>2</td>\n",
       "    </tr>\n",
       "    <tr>\n",
       "      <th>...</th>\n",
       "      <td>...</td>\n",
       "      <td>...</td>\n",
       "      <td>...</td>\n",
       "    </tr>\n",
       "    <tr>\n",
       "      <th>4297916</th>\n",
       "      <td>118970</td>\n",
       "      <td>[3, 71, 98, 197]</td>\n",
       "      <td>1</td>\n",
       "    </tr>\n",
       "    <tr>\n",
       "      <th>4297917</th>\n",
       "      <td>118970</td>\n",
       "      <td>[3, 71, 98, 198]</td>\n",
       "      <td>1</td>\n",
       "    </tr>\n",
       "    <tr>\n",
       "      <th>4297918</th>\n",
       "      <td>118970</td>\n",
       "      <td>[3, 71, 98, 199]</td>\n",
       "      <td>0</td>\n",
       "    </tr>\n",
       "    <tr>\n",
       "      <th>4297919</th>\n",
       "      <td>118970</td>\n",
       "      <td>[3, 71, 99, 283]</td>\n",
       "      <td>0</td>\n",
       "    </tr>\n",
       "    <tr>\n",
       "      <th>4297920</th>\n",
       "      <td>118970</td>\n",
       "      <td>[3, 71, 99, 284]</td>\n",
       "      <td>2</td>\n",
       "    </tr>\n",
       "  </tbody>\n",
       "</table>\n",
       "<p>4297921 rows × 3 columns</p>\n",
       "</div>"
      ],
      "text/plain": [
       "         UserId            SubjectId  IsCorrect\n",
       "0             0   [3, 101, 111, 348]          6\n",
       "1             0   [3, 101, 112, 348]          0\n",
       "2             0   [3, 101, 113, 337]          2\n",
       "3             0  [3, 101, 342, 1650]          1\n",
       "4             0   [3, 101, 348, 349]          2\n",
       "...         ...                  ...        ...\n",
       "4297916  118970     [3, 71, 98, 197]          1\n",
       "4297917  118970     [3, 71, 98, 198]          1\n",
       "4297918  118970     [3, 71, 98, 199]          0\n",
       "4297919  118970     [3, 71, 99, 283]          0\n",
       "4297920  118970     [3, 71, 99, 284]          2\n",
       "\n",
       "[4297921 rows x 3 columns]"
      ]
     },
     "execution_count": 13,
     "metadata": {},
     "output_type": "execute_result"
    }
   ],
   "source": [
    "interactions"
   ]
  },
  {
   "cell_type": "code",
   "execution_count": 14,
   "id": "0f283ff0",
   "metadata": {},
   "outputs": [
    {
     "data": {
      "text/plain": [
       "118971"
      ]
     },
     "execution_count": 14,
     "metadata": {},
     "output_type": "execute_result"
    }
   ],
   "source": [
    "interactions.UserId.nunique()"
   ]
  },
  {
   "cell_type": "code",
   "execution_count": 15,
   "id": "f2aabc57",
   "metadata": {},
   "outputs": [],
   "source": [
    "interactions['content_id'] = interactions['SubjectId'].astype('category').cat.codes"
   ]
  },
  {
   "cell_type": "code",
   "execution_count": 16,
   "id": "dc700fc4",
   "metadata": {},
   "outputs": [
    {
     "data": {
      "text/html": [
       "<div>\n",
       "<style scoped>\n",
       "    .dataframe tbody tr th:only-of-type {\n",
       "        vertical-align: middle;\n",
       "    }\n",
       "\n",
       "    .dataframe tbody tr th {\n",
       "        vertical-align: top;\n",
       "    }\n",
       "\n",
       "    .dataframe thead th {\n",
       "        text-align: right;\n",
       "    }\n",
       "</style>\n",
       "<table border=\"1\" class=\"dataframe\">\n",
       "  <thead>\n",
       "    <tr style=\"text-align: right;\">\n",
       "      <th></th>\n",
       "      <th>UserId</th>\n",
       "      <th>SubjectId</th>\n",
       "      <th>IsCorrect</th>\n",
       "      <th>content_id</th>\n",
       "    </tr>\n",
       "  </thead>\n",
       "  <tbody>\n",
       "    <tr>\n",
       "      <th>0</th>\n",
       "      <td>0</td>\n",
       "      <td>[3, 101, 111, 348]</td>\n",
       "      <td>6</td>\n",
       "      <td>43</td>\n",
       "    </tr>\n",
       "    <tr>\n",
       "      <th>1</th>\n",
       "      <td>0</td>\n",
       "      <td>[3, 101, 112, 348]</td>\n",
       "      <td>0</td>\n",
       "      <td>46</td>\n",
       "    </tr>\n",
       "    <tr>\n",
       "      <th>2</th>\n",
       "      <td>0</td>\n",
       "      <td>[3, 101, 113, 337]</td>\n",
       "      <td>2</td>\n",
       "      <td>52</td>\n",
       "    </tr>\n",
       "    <tr>\n",
       "      <th>3</th>\n",
       "      <td>0</td>\n",
       "      <td>[3, 101, 342, 1650]</td>\n",
       "      <td>1</td>\n",
       "      <td>67</td>\n",
       "    </tr>\n",
       "    <tr>\n",
       "      <th>4</th>\n",
       "      <td>0</td>\n",
       "      <td>[3, 101, 348, 349]</td>\n",
       "      <td>2</td>\n",
       "      <td>74</td>\n",
       "    </tr>\n",
       "    <tr>\n",
       "      <th>...</th>\n",
       "      <td>...</td>\n",
       "      <td>...</td>\n",
       "      <td>...</td>\n",
       "      <td>...</td>\n",
       "    </tr>\n",
       "    <tr>\n",
       "      <th>4297916</th>\n",
       "      <td>118970</td>\n",
       "      <td>[3, 71, 98, 197]</td>\n",
       "      <td>1</td>\n",
       "      <td>1116</td>\n",
       "    </tr>\n",
       "    <tr>\n",
       "      <th>4297917</th>\n",
       "      <td>118970</td>\n",
       "      <td>[3, 71, 98, 198]</td>\n",
       "      <td>1</td>\n",
       "      <td>1118</td>\n",
       "    </tr>\n",
       "    <tr>\n",
       "      <th>4297918</th>\n",
       "      <td>118970</td>\n",
       "      <td>[3, 71, 98, 199]</td>\n",
       "      <td>0</td>\n",
       "      <td>1120</td>\n",
       "    </tr>\n",
       "    <tr>\n",
       "      <th>4297919</th>\n",
       "      <td>118970</td>\n",
       "      <td>[3, 71, 99, 283]</td>\n",
       "      <td>0</td>\n",
       "      <td>1123</td>\n",
       "    </tr>\n",
       "    <tr>\n",
       "      <th>4297920</th>\n",
       "      <td>118970</td>\n",
       "      <td>[3, 71, 99, 284]</td>\n",
       "      <td>2</td>\n",
       "      <td>1124</td>\n",
       "    </tr>\n",
       "  </tbody>\n",
       "</table>\n",
       "<p>4297921 rows × 4 columns</p>\n",
       "</div>"
      ],
      "text/plain": [
       "         UserId            SubjectId  IsCorrect  content_id\n",
       "0             0   [3, 101, 111, 348]          6          43\n",
       "1             0   [3, 101, 112, 348]          0          46\n",
       "2             0   [3, 101, 113, 337]          2          52\n",
       "3             0  [3, 101, 342, 1650]          1          67\n",
       "4             0   [3, 101, 348, 349]          2          74\n",
       "...         ...                  ...        ...         ...\n",
       "4297916  118970     [3, 71, 98, 197]          1        1116\n",
       "4297917  118970     [3, 71, 98, 198]          1        1118\n",
       "4297918  118970     [3, 71, 98, 199]          0        1120\n",
       "4297919  118970     [3, 71, 99, 283]          0        1123\n",
       "4297920  118970     [3, 71, 99, 284]          2        1124\n",
       "\n",
       "[4297921 rows x 4 columns]"
      ]
     },
     "execution_count": 16,
     "metadata": {},
     "output_type": "execute_result"
    }
   ],
   "source": [
    "interactions"
   ]
  },
  {
   "cell_type": "code",
   "execution_count": 17,
   "id": "0fa2ed73",
   "metadata": {},
   "outputs": [
    {
     "data": {
      "text/plain": [
       "1125"
      ]
     },
     "execution_count": 17,
     "metadata": {},
     "output_type": "execute_result"
    }
   ],
   "source": [
    "interactions[\"content_id\"].nunique()"
   ]
  },
  {
   "cell_type": "code",
   "execution_count": 18,
   "id": "65062827",
   "metadata": {},
   "outputs": [],
   "source": [
    "#print(ratingCount.Rating.min(), ratingCount.Rating.max())"
   ]
  },
  {
   "cell_type": "code",
   "execution_count": 19,
   "id": "bb85feda",
   "metadata": {},
   "outputs": [],
   "source": [
    "#Rating.groupby(by=\"skill\")[\"totalRatingCount\"].max()"
   ]
  },
  {
   "cell_type": "code",
   "execution_count": 20,
   "id": "e502fd05",
   "metadata": {},
   "outputs": [],
   "source": [
    "#Rating[\"skill\"].value_counts()"
   ]
  },
  {
   "cell_type": "code",
   "execution_count": 21,
   "id": "a1dec1e8",
   "metadata": {},
   "outputs": [],
   "source": [
    "#Rating[(Rating.skill == 'Rounding')]"
   ]
  },
  {
   "cell_type": "code",
   "execution_count": 22,
   "id": "b0ecec2d",
   "metadata": {
    "id": "b0ecec2d",
    "outputId": "cb6a410f-b81e-40e4-e536-25233f5d4754"
   },
   "outputs": [],
   "source": [
    "#df1 = df.rename(columns={\"skill_id\":\"cid\",\"skill_name\":\"content_name\",\"user_id\":\"uid\"})"
   ]
  },
  {
   "cell_type": "code",
   "execution_count": 23,
   "id": "ebe7500e",
   "metadata": {
    "id": "ebe7500e",
    "outputId": "2654f599-8386-4e84-96db-4653a1b5e041"
   },
   "outputs": [],
   "source": [
    "#interactions_df = df2.groupby(['uuid', 'problem_id']).sum()['correct'].reset_index()"
   ]
  },
  {
   "cell_type": "markdown",
   "id": "b53ade99",
   "metadata": {},
   "source": [
    "###### Split dataset"
   ]
  },
  {
   "cell_type": "code",
   "execution_count": 24,
   "id": "434ea9ca",
   "metadata": {},
   "outputs": [],
   "source": [
    "#df2 = df1[[\"uid\", \"cid\", \"content_name\", \"correct\"]]\n",
    "#df2"
   ]
  },
  {
   "cell_type": "code",
   "execution_count": 25,
   "id": "f410cd38",
   "metadata": {},
   "outputs": [],
   "source": [
    "# Create a DataFrame with Content Information\n",
    "articles_df = interactions.groupby(['SubjectId', 'content_id'])\\\n",
    "                                      .agg({'UserId': 'count', 'IsCorrect': np.sum})[[\"UserId\",\"IsCorrect\"]]\\\n",
    "                                      .reset_index()\\\n",
    "                                      .rename(columns={'UserId': 'total_user', 'IsCorrect': 'total_correctness'})"
   ]
  },
  {
   "cell_type": "code",
   "execution_count": 26,
   "id": "7815b25e",
   "metadata": {},
   "outputs": [
    {
     "data": {
      "text/html": [
       "<div>\n",
       "<style scoped>\n",
       "    .dataframe tbody tr th:only-of-type {\n",
       "        vertical-align: middle;\n",
       "    }\n",
       "\n",
       "    .dataframe tbody tr th {\n",
       "        vertical-align: top;\n",
       "    }\n",
       "\n",
       "    .dataframe thead th {\n",
       "        text-align: right;\n",
       "    }\n",
       "</style>\n",
       "<table border=\"1\" class=\"dataframe\">\n",
       "  <thead>\n",
       "    <tr style=\"text-align: right;\">\n",
       "      <th></th>\n",
       "      <th>SubjectId</th>\n",
       "      <th>content_id</th>\n",
       "      <th>total_user</th>\n",
       "      <th>total_correctness</th>\n",
       "    </tr>\n",
       "  </thead>\n",
       "  <tbody>\n",
       "    <tr>\n",
       "      <th>0</th>\n",
       "      <td>[3, 101, 102, 104, 338, 339, 342]</td>\n",
       "      <td>0</td>\n",
       "      <td>89</td>\n",
       "      <td>47</td>\n",
       "    </tr>\n",
       "    <tr>\n",
       "      <th>1</th>\n",
       "      <td>[3, 101, 102, 106, 338, 342]</td>\n",
       "      <td>1</td>\n",
       "      <td>1887</td>\n",
       "      <td>1194</td>\n",
       "    </tr>\n",
       "    <tr>\n",
       "      <th>2</th>\n",
       "      <td>[3, 101, 102, 114, 338, 339]</td>\n",
       "      <td>2</td>\n",
       "      <td>81</td>\n",
       "      <td>51</td>\n",
       "    </tr>\n",
       "    <tr>\n",
       "      <th>3</th>\n",
       "      <td>[3, 101, 102, 116, 338, 342]</td>\n",
       "      <td>3</td>\n",
       "      <td>1864</td>\n",
       "      <td>1530</td>\n",
       "    </tr>\n",
       "    <tr>\n",
       "      <th>4</th>\n",
       "      <td>[3, 101, 102, 118, 338, 340, 341, 342]</td>\n",
       "      <td>4</td>\n",
       "      <td>119</td>\n",
       "      <td>72</td>\n",
       "    </tr>\n",
       "    <tr>\n",
       "      <th>...</th>\n",
       "      <td>...</td>\n",
       "      <td>...</td>\n",
       "      <td>...</td>\n",
       "      <td>...</td>\n",
       "    </tr>\n",
       "    <tr>\n",
       "      <th>1120</th>\n",
       "      <td>[3, 71, 98, 199]</td>\n",
       "      <td>1120</td>\n",
       "      <td>3698</td>\n",
       "      <td>3914</td>\n",
       "    </tr>\n",
       "    <tr>\n",
       "      <th>1121</th>\n",
       "      <td>[3, 71, 98, 209]</td>\n",
       "      <td>1121</td>\n",
       "      <td>19174</td>\n",
       "      <td>91985</td>\n",
       "    </tr>\n",
       "    <tr>\n",
       "      <th>1122</th>\n",
       "      <td>[3, 71, 99, 283, 284]</td>\n",
       "      <td>1122</td>\n",
       "      <td>865</td>\n",
       "      <td>3055</td>\n",
       "    </tr>\n",
       "    <tr>\n",
       "      <th>1123</th>\n",
       "      <td>[3, 71, 99, 283]</td>\n",
       "      <td>1123</td>\n",
       "      <td>5380</td>\n",
       "      <td>8727</td>\n",
       "    </tr>\n",
       "    <tr>\n",
       "      <th>1124</th>\n",
       "      <td>[3, 71, 99, 284]</td>\n",
       "      <td>1124</td>\n",
       "      <td>6373</td>\n",
       "      <td>11000</td>\n",
       "    </tr>\n",
       "  </tbody>\n",
       "</table>\n",
       "<p>1125 rows × 4 columns</p>\n",
       "</div>"
      ],
      "text/plain": [
       "                                   SubjectId  content_id  total_user  \\\n",
       "0          [3, 101, 102, 104, 338, 339, 342]           0          89   \n",
       "1               [3, 101, 102, 106, 338, 342]           1        1887   \n",
       "2               [3, 101, 102, 114, 338, 339]           2          81   \n",
       "3               [3, 101, 102, 116, 338, 342]           3        1864   \n",
       "4     [3, 101, 102, 118, 338, 340, 341, 342]           4         119   \n",
       "...                                      ...         ...         ...   \n",
       "1120                        [3, 71, 98, 199]        1120        3698   \n",
       "1121                        [3, 71, 98, 209]        1121       19174   \n",
       "1122                   [3, 71, 99, 283, 284]        1122         865   \n",
       "1123                        [3, 71, 99, 283]        1123        5380   \n",
       "1124                        [3, 71, 99, 284]        1124        6373   \n",
       "\n",
       "      total_correctness  \n",
       "0                    47  \n",
       "1                  1194  \n",
       "2                    51  \n",
       "3                  1530  \n",
       "4                    72  \n",
       "...                 ...  \n",
       "1120               3914  \n",
       "1121              91985  \n",
       "1122               3055  \n",
       "1123               8727  \n",
       "1124              11000  \n",
       "\n",
       "[1125 rows x 4 columns]"
      ]
     },
     "execution_count": 26,
     "metadata": {},
     "output_type": "execute_result"
    }
   ],
   "source": [
    "articles_df"
   ]
  },
  {
   "cell_type": "markdown",
   "id": "255e60f5",
   "metadata": {
    "id": "255e60f5"
   },
   "source": [
    "###### Autoencoder"
   ]
  },
  {
   "cell_type": "code",
   "execution_count": 27,
   "id": "1ea2388f",
   "metadata": {},
   "outputs": [],
   "source": [
    "# Split dataset in Train/Test\n",
    "xtrain_df, xtest_df = train_test_split(interactions, test_size=0.2, random_state=42)  "
   ]
  },
  {
   "cell_type": "code",
   "execution_count": 28,
   "id": "daaefcd0",
   "metadata": {},
   "outputs": [
    {
     "data": {
      "text/plain": [
       "(118959, 1125)"
      ]
     },
     "execution_count": 28,
     "metadata": {},
     "output_type": "execute_result"
    }
   ],
   "source": [
    "# Creating a sparse pivot table with users in rows and items in columns\n",
    "xtrain_df_matrix = xtrain_df.pivot_table(index = 'UserId', \n",
    "                                 columns = 'content_id', \n",
    "                                 values  = 'IsCorrect').fillna(0)\n",
    "\n",
    "xtrain_df_matrix.shape"
   ]
  },
  {
   "cell_type": "code",
   "execution_count": 29,
   "id": "adb1a6fa",
   "metadata": {},
   "outputs": [
    {
     "data": {
      "text/plain": [
       "(115138, 1125)"
      ]
     },
     "execution_count": 29,
     "metadata": {},
     "output_type": "execute_result"
    }
   ],
   "source": [
    "# Creating a sparse pivot table with users in rows and items in columns\n",
    "xtest_df_matrix = xtest_df.pivot_table(index = 'UserId', \n",
    "                                 columns = 'content_id', \n",
    "                                 values  = 'IsCorrect').fillna(0)\n",
    "\n",
    "xtest_df_matrix.shape"
   ]
  },
  {
   "cell_type": "code",
   "execution_count": 30,
   "id": "50590b0c",
   "metadata": {},
   "outputs": [],
   "source": [
    "# # Creating a sparse pivot table with users in rows and items in columns\n",
    "# matrix = xtrain_df.pivot_table(index = 'UserId', \n",
    "#                                  columns = 'content_id', \n",
    "#                                  values  = 'IsCorrect').fillna(0)\n",
    "\n",
    "# matrix"
   ]
  },
  {
   "cell_type": "code",
   "execution_count": 31,
   "id": "b3d1245b",
   "metadata": {},
   "outputs": [],
   "source": [
    "# matrix.values.mean()*100"
   ]
  },
  {
   "cell_type": "code",
   "execution_count": 32,
   "id": "372efbbb",
   "metadata": {},
   "outputs": [],
   "source": [
    "# input\n",
    "# X = matrix.values\n",
    "# y = matrix.values"
   ]
  },
  {
   "cell_type": "code",
   "execution_count": 33,
   "id": "68488f30",
   "metadata": {},
   "outputs": [
    {
     "name": "stderr",
     "output_type": "stream",
     "text": [
      "2022-07-19 12:59:04.542401: W tensorflow/stream_executor/platform/default/dso_loader.cc:64] Could not load dynamic library 'libcudart.so.11.0'; dlerror: libcudart.so.11.0: cannot open shared object file: No such file or directory\n",
      "2022-07-19 12:59:04.542467: I tensorflow/stream_executor/cuda/cudart_stub.cc:29] Ignore above cudart dlerror if you do not have a GPU set up on your machine.\n",
      "2022-07-19 12:59:08.398855: E tensorflow/stream_executor/cuda/cuda_driver.cc:271] failed call to cuInit: CUDA_ERROR_NO_DEVICE: no CUDA-capable device is detected\n",
      "2022-07-19 12:59:08.398877: I tensorflow/stream_executor/cuda/cuda_diagnostics.cc:156] kernel driver does not appear to be running on this host (fast-Lenovo-Legion-5-15IMH05H): /proc/driver/nvidia/version does not exist\n",
      "2022-07-19 12:59:08.399081: I tensorflow/core/platform/cpu_feature_guard.cc:151] This TensorFlow binary is optimized with oneAPI Deep Neural Network Library (oneDNN) to use the following CPU instructions in performance-critical operations:  AVX2 FMA\n",
      "To enable them in other operations, rebuild TensorFlow with the appropriate compiler flags.\n",
      "/home/fast/.local/lib/python3.8/site-packages/keras/optimizer_v2/adam.py:105: UserWarning: The `lr` argument is deprecated, use `learning_rate` instead.\n",
      "  super(Adam, self).__init__(name, **kwargs)\n",
      "2022-07-19 12:59:08.817459: W tensorflow/core/framework/cpu_allocator_impl.cc:82] Allocation of 1070631000 exceeds 10% of free system memory.\n"
     ]
    },
    {
     "name": "stdout",
     "output_type": "stream",
     "text": [
      "Epoch 1/5\n"
     ]
    },
    {
     "name": "stderr",
     "output_type": "stream",
     "text": [
      "2022-07-19 12:59:09.418947: W tensorflow/core/framework/cpu_allocator_impl.cc:82] Allocation of 1070631000 exceeds 10% of free system memory.\n"
     ]
    },
    {
     "name": "stdout",
     "output_type": "stream",
     "text": [
      "3711/3718 [============================>.] - ETA: 0s - loss: 0.0503 - accuracy: 0.8504"
     ]
    },
    {
     "name": "stderr",
     "output_type": "stream",
     "text": [
      "2022-07-19 12:59:32.710979: W tensorflow/core/framework/cpu_allocator_impl.cc:82] Allocation of 1036242000 exceeds 10% of free system memory.\n",
      "2022-07-19 12:59:33.276847: W tensorflow/core/framework/cpu_allocator_impl.cc:82] Allocation of 1036242000 exceeds 10% of free system memory.\n"
     ]
    },
    {
     "name": "stdout",
     "output_type": "stream",
     "text": [
      "3718/3718 [==============================] - 30s 8ms/step - loss: 0.0502 - accuracy: 0.8504 - val_loss: 0.0129 - val_accuracy: 0.8500\n",
      "Epoch 2/5\n",
      "3718/3718 [==============================] - 29s 8ms/step - loss: 0.0295 - accuracy: 0.8777 - val_loss: 0.0089 - val_accuracy: 0.8479\n",
      "Epoch 3/5\n",
      "3718/3718 [==============================] - 28s 8ms/step - loss: 0.0259 - accuracy: 0.8822 - val_loss: 0.0080 - val_accuracy: 0.8532\n",
      "Epoch 4/5\n",
      "3718/3718 [==============================] - 28s 7ms/step - loss: 0.0239 - accuracy: 0.8847 - val_loss: 0.0067 - val_accuracy: 0.8568\n",
      "Epoch 5/5\n",
      "3718/3718 [==============================] - 29s 8ms/step - loss: 0.0223 - accuracy: 0.8859 - val_loss: 0.0062 - val_accuracy: 0.8597\n"
     ]
    }
   ],
   "source": [
    "from tensorflow.keras.optimizers import Adam\n",
    "from keras.layers import Input, Dense, Dropout\n",
    "from keras.models import Model\n",
    "import tensorflow as tf\n",
    "from keras import regularizers\n",
    "import datetime, os\n",
    "\n",
    "input_size = 1125\n",
    "hidden_size = 512\n",
    "code_size = 256\n",
    "\n",
    "Input = Input(shape=(input_size,))\n",
    "#Encoder\n",
    "hidden_1 = Dense(hidden_size, activation='selu')(Input)\n",
    "code = Dense(code_size, activation='selu')(hidden_1)\n",
    "# Decoder\n",
    "hidden_2 = Dense(hidden_size, activation='selu')(code)\n",
    "output = Dense(input_size, activation='selu')(hidden_2)\n",
    "\n",
    "autoencoder = Model(Input, output)\n",
    "#opt = tf.keras.optimizers.SGD(learning_rate=0.1)\n",
    "autoencoder.compile(optimizer= Adam(lr=0.001), loss='mse',metrics= 'accuracy')\n",
    "hist = autoencoder.fit(xtrain_df_matrix, xtrain_df_matrix, epochs=5, shuffle=True, validation_data=(xtest_df_matrix, xtest_df_matrix))"
   ]
  },
  {
   "cell_type": "code",
   "execution_count": 34,
   "id": "13f812f5",
   "metadata": {},
   "outputs": [
    {
     "data": {
      "text/plain": [
       "0.8761606931686401"
      ]
     },
     "execution_count": 34,
     "metadata": {},
     "output_type": "execute_result"
    }
   ],
   "source": [
    "np.mean(hist.history['accuracy']) # numpy assumed imported as np"
   ]
  },
  {
   "cell_type": "code",
   "execution_count": 28,
   "id": "9f9d989a",
   "metadata": {},
   "outputs": [],
   "source": [
    "#from tensorflow.keras.utils import plot_model\n",
    "# plot the autoencoder\n",
    "#plot_model(model, 'autoencoder.png', show_shapes=True)"
   ]
  },
  {
   "cell_type": "code",
   "execution_count": 77,
   "id": "68b380b4",
   "metadata": {
    "id": "68b380b4",
    "outputId": "5f309a45-70a2-4747-99a3-c1d0abb8168a"
   },
   "outputs": [],
   "source": [
    "# import matplotlib.pyplot as plt\n",
    "\n",
    "# hist.history.keys() \n",
    "# ['acc', 'loss', 'val_acc', 'val_loss'] \n",
    "# plt.plot(hist.history['loss']) \n",
    "# plt.plot(hist.history['val_loss']) \n",
    "# plt.title('model loss') \n",
    "# plt.ylabel('loss') \n",
    "# plt.xlabel('epoch') \n",
    "# plt.legend(['train', 'test'], loc='upper right') \n",
    "# plt.show() "
   ]
  },
  {
   "cell_type": "code",
   "execution_count": 31,
   "id": "02ffb440",
   "metadata": {},
   "outputs": [
    {
     "name": "stdout",
     "output_type": "stream",
     "text": [
      "3599/3599 [==============================] - 7s 2ms/step - loss: 0.0028 - accuracy: 0.8520\n"
     ]
    },
    {
     "data": {
      "text/plain": [
       "[0.002784907817840576, 0.8520470857620239]"
      ]
     },
     "execution_count": 31,
     "metadata": {},
     "output_type": "execute_result"
    }
   ],
   "source": [
    "autoencoder.evaluate(xtest_df_matrix,xtest_df_matrix) "
   ]
  },
  {
   "cell_type": "code",
   "execution_count": 36,
   "id": "c35b296a",
   "metadata": {},
   "outputs": [
    {
     "name": "stderr",
     "output_type": "stream",
     "text": [
      "2022-07-19 13:03:10.019327: W tensorflow/core/framework/cpu_allocator_impl.cc:82] Allocation of 1036242000 exceeds 10% of free system memory.\n"
     ]
    }
   ],
   "source": [
    "pred_score = autoencoder.predict(xtest_df_matrix)"
   ]
  },
  {
   "cell_type": "code",
   "execution_count": 37,
   "id": "f08b6ea2",
   "metadata": {},
   "outputs": [
    {
     "data": {
      "text/plain": [
       "(115138, 1125)"
      ]
     },
     "execution_count": 37,
     "metadata": {},
     "output_type": "execute_result"
    }
   ],
   "source": [
    "pred_score.shape"
   ]
  },
  {
   "cell_type": "code",
   "execution_count": 38,
   "id": "49814c57",
   "metadata": {},
   "outputs": [
    {
     "data": {
      "text/html": [
       "<div>\n",
       "<style scoped>\n",
       "    .dataframe tbody tr th:only-of-type {\n",
       "        vertical-align: middle;\n",
       "    }\n",
       "\n",
       "    .dataframe tbody tr th {\n",
       "        vertical-align: top;\n",
       "    }\n",
       "\n",
       "    .dataframe thead th {\n",
       "        text-align: right;\n",
       "    }\n",
       "</style>\n",
       "<table border=\"1\" class=\"dataframe\">\n",
       "  <thead>\n",
       "    <tr style=\"text-align: right;\">\n",
       "      <th>content_id</th>\n",
       "      <th>0</th>\n",
       "      <th>1</th>\n",
       "      <th>2</th>\n",
       "      <th>3</th>\n",
       "      <th>4</th>\n",
       "      <th>5</th>\n",
       "      <th>6</th>\n",
       "      <th>7</th>\n",
       "      <th>8</th>\n",
       "      <th>9</th>\n",
       "      <th>...</th>\n",
       "      <th>1115</th>\n",
       "      <th>1116</th>\n",
       "      <th>1117</th>\n",
       "      <th>1118</th>\n",
       "      <th>1119</th>\n",
       "      <th>1120</th>\n",
       "      <th>1121</th>\n",
       "      <th>1122</th>\n",
       "      <th>1123</th>\n",
       "      <th>1124</th>\n",
       "    </tr>\n",
       "    <tr>\n",
       "      <th>UserId</th>\n",
       "      <th></th>\n",
       "      <th></th>\n",
       "      <th></th>\n",
       "      <th></th>\n",
       "      <th></th>\n",
       "      <th></th>\n",
       "      <th></th>\n",
       "      <th></th>\n",
       "      <th></th>\n",
       "      <th></th>\n",
       "      <th></th>\n",
       "      <th></th>\n",
       "      <th></th>\n",
       "      <th></th>\n",
       "      <th></th>\n",
       "      <th></th>\n",
       "      <th></th>\n",
       "      <th></th>\n",
       "      <th></th>\n",
       "      <th></th>\n",
       "      <th></th>\n",
       "    </tr>\n",
       "  </thead>\n",
       "  <tbody>\n",
       "    <tr>\n",
       "      <th>0</th>\n",
       "      <td>-0.002969</td>\n",
       "      <td>-0.000922</td>\n",
       "      <td>-0.071302</td>\n",
       "      <td>0.019146</td>\n",
       "      <td>0.024392</td>\n",
       "      <td>-0.009204</td>\n",
       "      <td>0.009593</td>\n",
       "      <td>-0.050599</td>\n",
       "      <td>-0.003575</td>\n",
       "      <td>-0.262309</td>\n",
       "      <td>...</td>\n",
       "      <td>-0.060087</td>\n",
       "      <td>0.154055</td>\n",
       "      <td>0.001012</td>\n",
       "      <td>0.150958</td>\n",
       "      <td>-0.002570</td>\n",
       "      <td>0.146520</td>\n",
       "      <td>0.108226</td>\n",
       "      <td>0.018384</td>\n",
       "      <td>-0.173112</td>\n",
       "      <td>0.035453</td>\n",
       "    </tr>\n",
       "    <tr>\n",
       "      <th>1</th>\n",
       "      <td>0.000039</td>\n",
       "      <td>-0.020925</td>\n",
       "      <td>0.009905</td>\n",
       "      <td>-0.003027</td>\n",
       "      <td>0.001562</td>\n",
       "      <td>0.020367</td>\n",
       "      <td>0.022053</td>\n",
       "      <td>0.036117</td>\n",
       "      <td>-0.012412</td>\n",
       "      <td>0.103539</td>\n",
       "      <td>...</td>\n",
       "      <td>-0.054434</td>\n",
       "      <td>0.001242</td>\n",
       "      <td>0.003498</td>\n",
       "      <td>-0.012783</td>\n",
       "      <td>-0.017968</td>\n",
       "      <td>0.046838</td>\n",
       "      <td>-0.108941</td>\n",
       "      <td>0.049443</td>\n",
       "      <td>-0.030521</td>\n",
       "      <td>0.077852</td>\n",
       "    </tr>\n",
       "    <tr>\n",
       "      <th>3</th>\n",
       "      <td>-0.003041</td>\n",
       "      <td>-0.002956</td>\n",
       "      <td>-0.010450</td>\n",
       "      <td>-0.011635</td>\n",
       "      <td>-0.006326</td>\n",
       "      <td>0.013003</td>\n",
       "      <td>-0.002039</td>\n",
       "      <td>0.006581</td>\n",
       "      <td>-0.009684</td>\n",
       "      <td>0.119840</td>\n",
       "      <td>...</td>\n",
       "      <td>-0.056843</td>\n",
       "      <td>-0.004907</td>\n",
       "      <td>0.005505</td>\n",
       "      <td>0.011912</td>\n",
       "      <td>-0.021145</td>\n",
       "      <td>0.068598</td>\n",
       "      <td>-0.026325</td>\n",
       "      <td>0.013272</td>\n",
       "      <td>-0.009239</td>\n",
       "      <td>0.099238</td>\n",
       "    </tr>\n",
       "    <tr>\n",
       "      <th>4</th>\n",
       "      <td>0.004376</td>\n",
       "      <td>-0.013351</td>\n",
       "      <td>-0.006378</td>\n",
       "      <td>0.002040</td>\n",
       "      <td>0.004462</td>\n",
       "      <td>0.015929</td>\n",
       "      <td>0.005539</td>\n",
       "      <td>0.006781</td>\n",
       "      <td>-0.004827</td>\n",
       "      <td>-0.080051</td>\n",
       "      <td>...</td>\n",
       "      <td>-0.068716</td>\n",
       "      <td>0.022154</td>\n",
       "      <td>0.009749</td>\n",
       "      <td>0.031499</td>\n",
       "      <td>-0.019039</td>\n",
       "      <td>0.043468</td>\n",
       "      <td>0.037520</td>\n",
       "      <td>0.045615</td>\n",
       "      <td>-0.026540</td>\n",
       "      <td>0.090819</td>\n",
       "    </tr>\n",
       "    <tr>\n",
       "      <th>5</th>\n",
       "      <td>0.004939</td>\n",
       "      <td>-0.012447</td>\n",
       "      <td>-0.000076</td>\n",
       "      <td>-0.020501</td>\n",
       "      <td>0.022069</td>\n",
       "      <td>0.016245</td>\n",
       "      <td>0.023411</td>\n",
       "      <td>0.001077</td>\n",
       "      <td>0.000071</td>\n",
       "      <td>-0.018896</td>\n",
       "      <td>...</td>\n",
       "      <td>-0.021518</td>\n",
       "      <td>-0.019576</td>\n",
       "      <td>0.008465</td>\n",
       "      <td>0.026253</td>\n",
       "      <td>-0.024719</td>\n",
       "      <td>0.070806</td>\n",
       "      <td>-0.048030</td>\n",
       "      <td>0.047069</td>\n",
       "      <td>-0.022434</td>\n",
       "      <td>0.052051</td>\n",
       "    </tr>\n",
       "    <tr>\n",
       "      <th>...</th>\n",
       "      <td>...</td>\n",
       "      <td>...</td>\n",
       "      <td>...</td>\n",
       "      <td>...</td>\n",
       "      <td>...</td>\n",
       "      <td>...</td>\n",
       "      <td>...</td>\n",
       "      <td>...</td>\n",
       "      <td>...</td>\n",
       "      <td>...</td>\n",
       "      <td>...</td>\n",
       "      <td>...</td>\n",
       "      <td>...</td>\n",
       "      <td>...</td>\n",
       "      <td>...</td>\n",
       "      <td>...</td>\n",
       "      <td>...</td>\n",
       "      <td>...</td>\n",
       "      <td>...</td>\n",
       "      <td>...</td>\n",
       "      <td>...</td>\n",
       "    </tr>\n",
       "    <tr>\n",
       "      <th>118966</th>\n",
       "      <td>0.008848</td>\n",
       "      <td>0.009726</td>\n",
       "      <td>0.013832</td>\n",
       "      <td>-0.041452</td>\n",
       "      <td>-0.016764</td>\n",
       "      <td>0.021435</td>\n",
       "      <td>-0.000904</td>\n",
       "      <td>-0.046624</td>\n",
       "      <td>0.007623</td>\n",
       "      <td>-0.116467</td>\n",
       "      <td>...</td>\n",
       "      <td>-0.094542</td>\n",
       "      <td>0.081034</td>\n",
       "      <td>0.006908</td>\n",
       "      <td>-0.043368</td>\n",
       "      <td>-0.006988</td>\n",
       "      <td>0.074005</td>\n",
       "      <td>0.241518</td>\n",
       "      <td>-0.028025</td>\n",
       "      <td>-0.049303</td>\n",
       "      <td>0.080210</td>\n",
       "    </tr>\n",
       "    <tr>\n",
       "      <th>118967</th>\n",
       "      <td>0.001639</td>\n",
       "      <td>-0.010919</td>\n",
       "      <td>-0.000165</td>\n",
       "      <td>-0.003606</td>\n",
       "      <td>0.006065</td>\n",
       "      <td>0.015005</td>\n",
       "      <td>0.009175</td>\n",
       "      <td>0.019865</td>\n",
       "      <td>-0.005629</td>\n",
       "      <td>0.022312</td>\n",
       "      <td>...</td>\n",
       "      <td>-0.052623</td>\n",
       "      <td>-0.004282</td>\n",
       "      <td>0.007323</td>\n",
       "      <td>-0.013160</td>\n",
       "      <td>-0.019821</td>\n",
       "      <td>0.067215</td>\n",
       "      <td>-0.005746</td>\n",
       "      <td>0.030641</td>\n",
       "      <td>-0.016221</td>\n",
       "      <td>0.089886</td>\n",
       "    </tr>\n",
       "    <tr>\n",
       "      <th>118968</th>\n",
       "      <td>0.003185</td>\n",
       "      <td>-0.007963</td>\n",
       "      <td>-0.012296</td>\n",
       "      <td>0.009212</td>\n",
       "      <td>0.009921</td>\n",
       "      <td>0.008356</td>\n",
       "      <td>0.001655</td>\n",
       "      <td>0.008713</td>\n",
       "      <td>-0.006078</td>\n",
       "      <td>-0.008931</td>\n",
       "      <td>...</td>\n",
       "      <td>-0.096368</td>\n",
       "      <td>-0.035195</td>\n",
       "      <td>0.008623</td>\n",
       "      <td>-0.038994</td>\n",
       "      <td>-0.016703</td>\n",
       "      <td>0.081695</td>\n",
       "      <td>-0.118140</td>\n",
       "      <td>0.012121</td>\n",
       "      <td>0.016646</td>\n",
       "      <td>0.079387</td>\n",
       "    </tr>\n",
       "    <tr>\n",
       "      <th>118969</th>\n",
       "      <td>0.000194</td>\n",
       "      <td>-0.012424</td>\n",
       "      <td>0.003388</td>\n",
       "      <td>0.014407</td>\n",
       "      <td>0.000514</td>\n",
       "      <td>0.011608</td>\n",
       "      <td>0.011746</td>\n",
       "      <td>0.004759</td>\n",
       "      <td>-0.011146</td>\n",
       "      <td>0.041213</td>\n",
       "      <td>...</td>\n",
       "      <td>-0.018569</td>\n",
       "      <td>-0.000098</td>\n",
       "      <td>0.003733</td>\n",
       "      <td>-0.022567</td>\n",
       "      <td>-0.013705</td>\n",
       "      <td>0.062243</td>\n",
       "      <td>-0.078974</td>\n",
       "      <td>0.017489</td>\n",
       "      <td>-0.020958</td>\n",
       "      <td>0.084024</td>\n",
       "    </tr>\n",
       "    <tr>\n",
       "      <th>118970</th>\n",
       "      <td>-0.003871</td>\n",
       "      <td>0.020189</td>\n",
       "      <td>-0.041747</td>\n",
       "      <td>0.056841</td>\n",
       "      <td>-0.012501</td>\n",
       "      <td>0.036565</td>\n",
       "      <td>-0.049641</td>\n",
       "      <td>0.137425</td>\n",
       "      <td>-0.009997</td>\n",
       "      <td>2.249142</td>\n",
       "      <td>...</td>\n",
       "      <td>-0.046417</td>\n",
       "      <td>0.059493</td>\n",
       "      <td>0.013552</td>\n",
       "      <td>0.222686</td>\n",
       "      <td>-0.045372</td>\n",
       "      <td>0.027181</td>\n",
       "      <td>-0.282822</td>\n",
       "      <td>-0.143937</td>\n",
       "      <td>-0.160897</td>\n",
       "      <td>0.146159</td>\n",
       "    </tr>\n",
       "  </tbody>\n",
       "</table>\n",
       "<p>115138 rows × 1125 columns</p>\n",
       "</div>"
      ],
      "text/plain": [
       "content_id      0         1         2         3         4         5     \\\n",
       "UserId                                                                   \n",
       "0          -0.002969 -0.000922 -0.071302  0.019146  0.024392 -0.009204   \n",
       "1           0.000039 -0.020925  0.009905 -0.003027  0.001562  0.020367   \n",
       "3          -0.003041 -0.002956 -0.010450 -0.011635 -0.006326  0.013003   \n",
       "4           0.004376 -0.013351 -0.006378  0.002040  0.004462  0.015929   \n",
       "5           0.004939 -0.012447 -0.000076 -0.020501  0.022069  0.016245   \n",
       "...              ...       ...       ...       ...       ...       ...   \n",
       "118966      0.008848  0.009726  0.013832 -0.041452 -0.016764  0.021435   \n",
       "118967      0.001639 -0.010919 -0.000165 -0.003606  0.006065  0.015005   \n",
       "118968      0.003185 -0.007963 -0.012296  0.009212  0.009921  0.008356   \n",
       "118969      0.000194 -0.012424  0.003388  0.014407  0.000514  0.011608   \n",
       "118970     -0.003871  0.020189 -0.041747  0.056841 -0.012501  0.036565   \n",
       "\n",
       "content_id      6         7         8         9     ...      1115      1116  \\\n",
       "UserId                                              ...                       \n",
       "0           0.009593 -0.050599 -0.003575 -0.262309  ... -0.060087  0.154055   \n",
       "1           0.022053  0.036117 -0.012412  0.103539  ... -0.054434  0.001242   \n",
       "3          -0.002039  0.006581 -0.009684  0.119840  ... -0.056843 -0.004907   \n",
       "4           0.005539  0.006781 -0.004827 -0.080051  ... -0.068716  0.022154   \n",
       "5           0.023411  0.001077  0.000071 -0.018896  ... -0.021518 -0.019576   \n",
       "...              ...       ...       ...       ...  ...       ...       ...   \n",
       "118966     -0.000904 -0.046624  0.007623 -0.116467  ... -0.094542  0.081034   \n",
       "118967      0.009175  0.019865 -0.005629  0.022312  ... -0.052623 -0.004282   \n",
       "118968      0.001655  0.008713 -0.006078 -0.008931  ... -0.096368 -0.035195   \n",
       "118969      0.011746  0.004759 -0.011146  0.041213  ... -0.018569 -0.000098   \n",
       "118970     -0.049641  0.137425 -0.009997  2.249142  ... -0.046417  0.059493   \n",
       "\n",
       "content_id      1117      1118      1119      1120      1121      1122  \\\n",
       "UserId                                                                   \n",
       "0           0.001012  0.150958 -0.002570  0.146520  0.108226  0.018384   \n",
       "1           0.003498 -0.012783 -0.017968  0.046838 -0.108941  0.049443   \n",
       "3           0.005505  0.011912 -0.021145  0.068598 -0.026325  0.013272   \n",
       "4           0.009749  0.031499 -0.019039  0.043468  0.037520  0.045615   \n",
       "5           0.008465  0.026253 -0.024719  0.070806 -0.048030  0.047069   \n",
       "...              ...       ...       ...       ...       ...       ...   \n",
       "118966      0.006908 -0.043368 -0.006988  0.074005  0.241518 -0.028025   \n",
       "118967      0.007323 -0.013160 -0.019821  0.067215 -0.005746  0.030641   \n",
       "118968      0.008623 -0.038994 -0.016703  0.081695 -0.118140  0.012121   \n",
       "118969      0.003733 -0.022567 -0.013705  0.062243 -0.078974  0.017489   \n",
       "118970      0.013552  0.222686 -0.045372  0.027181 -0.282822 -0.143937   \n",
       "\n",
       "content_id      1123      1124  \n",
       "UserId                          \n",
       "0          -0.173112  0.035453  \n",
       "1          -0.030521  0.077852  \n",
       "3          -0.009239  0.099238  \n",
       "4          -0.026540  0.090819  \n",
       "5          -0.022434  0.052051  \n",
       "...              ...       ...  \n",
       "118966     -0.049303  0.080210  \n",
       "118967     -0.016221  0.089886  \n",
       "118968      0.016646  0.079387  \n",
       "118969     -0.020958  0.084024  \n",
       "118970     -0.160897  0.146159  \n",
       "\n",
       "[115138 rows x 1125 columns]"
      ]
     },
     "execution_count": 38,
     "metadata": {},
     "output_type": "execute_result"
    }
   ],
   "source": [
    "# converting the reconstructed matrix back to a Pandas dataframe\n",
    "cf_preds_df = pd.DataFrame(pred_score, \n",
    "                           columns = xtest_df_matrix.columns, \n",
    "                           index   = xtest_df_matrix.index)\n",
    "cf_preds_df"
   ]
  },
  {
   "cell_type": "code",
   "execution_count": 39,
   "id": "2a4f883f",
   "metadata": {},
   "outputs": [
    {
     "name": "stdout",
     "output_type": "stream",
     "text": [
      "-11.731657 143.98174\n"
     ]
    }
   ],
   "source": [
    "print(cf_preds_df.values.min(), cf_preds_df.values.max())"
   ]
  },
  {
   "cell_type": "code",
   "execution_count": 40,
   "id": "9b78af8e",
   "metadata": {},
   "outputs": [],
   "source": [
    "def recommender_for_user(UserId, interact_matrix, df_content, topn = 3):\n",
    "    '''\n",
    "    Recommender Games for UserWarning\n",
    "    '''\n",
    "    pred_scores = interact_matrix.loc[UserId].values\n",
    "\n",
    "    df_scores   = pd.DataFrame({'content_id': list(xtest_df_matrix.columns), \n",
    "                               'score': pred_scores})\n",
    "                                \n",
    "#     return df_scores\n",
    "\n",
    "    df_rec      = df_scores.set_index('content_id')\\\n",
    "                    .join(df_content.set_index('content_id'))\\\n",
    "                    .sort_values('score', ascending=False)\\\n",
    "                    .head(topn)[['score', 'SubjectId']]\n",
    "    df_rec = df_rec[df_rec.score > 0]\n",
    " #   rec = df_rec.iloc[1:4,:]\n",
    "    return df_rec"
   ]
  },
  {
   "cell_type": "markdown",
   "id": "b5149b47",
   "metadata": {},
   "source": [
    "#### Test 1"
   ]
  },
  {
   "cell_type": "code",
   "execution_count": 50,
   "id": "cb9dd218",
   "metadata": {},
   "outputs": [
    {
     "data": {
      "text/html": [
       "<div>\n",
       "<style scoped>\n",
       "    .dataframe tbody tr th:only-of-type {\n",
       "        vertical-align: middle;\n",
       "    }\n",
       "\n",
       "    .dataframe tbody tr th {\n",
       "        vertical-align: top;\n",
       "    }\n",
       "\n",
       "    .dataframe thead th {\n",
       "        text-align: right;\n",
       "    }\n",
       "</style>\n",
       "<table border=\"1\" class=\"dataframe\">\n",
       "  <thead>\n",
       "    <tr style=\"text-align: right;\">\n",
       "      <th></th>\n",
       "      <th>score</th>\n",
       "      <th>SubjectId</th>\n",
       "    </tr>\n",
       "    <tr>\n",
       "      <th>content_id</th>\n",
       "      <th></th>\n",
       "      <th></th>\n",
       "    </tr>\n",
       "  </thead>\n",
       "  <tbody>\n",
       "    <tr>\n",
       "      <th>185</th>\n",
       "      <td>3.0</td>\n",
       "      <td>[3, 32, 144, 204]</td>\n",
       "    </tr>\n",
       "    <tr>\n",
       "      <th>169</th>\n",
       "      <td>1.0</td>\n",
       "      <td>[3, 32, 144, 202, 203]</td>\n",
       "    </tr>\n",
       "    <tr>\n",
       "      <th>525</th>\n",
       "      <td>1.0</td>\n",
       "      <td>[3, 32, 42, 212]</td>\n",
       "    </tr>\n",
       "  </tbody>\n",
       "</table>\n",
       "</div>"
      ],
      "text/plain": [
       "            score               SubjectId\n",
       "content_id                               \n",
       "185           3.0       [3, 32, 144, 204]\n",
       "169           1.0  [3, 32, 144, 202, 203]\n",
       "525           1.0        [3, 32, 42, 212]"
      ]
     },
     "execution_count": 50,
     "metadata": {},
     "output_type": "execute_result"
    }
   ],
   "source": [
    "# Content previously learned by the user\n",
    "recommender_for_user(UserId         = 4, \n",
    "                     interact_matrix = xtest_df_matrix, \n",
    "                     df_content      = articles_df)"
   ]
  },
  {
   "cell_type": "code",
   "execution_count": 83,
   "id": "1134695b",
   "metadata": {},
   "outputs": [
    {
     "data": {
      "text/html": [
       "<div>\n",
       "<style scoped>\n",
       "    .dataframe tbody tr th:only-of-type {\n",
       "        vertical-align: middle;\n",
       "    }\n",
       "\n",
       "    .dataframe tbody tr th {\n",
       "        vertical-align: top;\n",
       "    }\n",
       "\n",
       "    .dataframe thead th {\n",
       "        text-align: right;\n",
       "    }\n",
       "</style>\n",
       "<table border=\"1\" class=\"dataframe\">\n",
       "  <thead>\n",
       "    <tr style=\"text-align: right;\">\n",
       "      <th></th>\n",
       "      <th>score</th>\n",
       "      <th>SubjectId</th>\n",
       "    </tr>\n",
       "    <tr>\n",
       "      <th>content_id</th>\n",
       "      <th></th>\n",
       "      <th></th>\n",
       "    </tr>\n",
       "  </thead>\n",
       "  <tbody>\n",
       "    <tr>\n",
       "      <th>185</th>\n",
       "      <td>2.953835</td>\n",
       "      <td>[3, 32, 144, 204]</td>\n",
       "    </tr>\n",
       "    <tr>\n",
       "      <th>525</th>\n",
       "      <td>0.766846</td>\n",
       "      <td>[3, 32, 42, 212]</td>\n",
       "    </tr>\n",
       "    <tr>\n",
       "      <th>157</th>\n",
       "      <td>0.374250</td>\n",
       "      <td>[3, 32, 144, 1203]</td>\n",
       "    </tr>\n",
       "  </tbody>\n",
       "</table>\n",
       "</div>"
      ],
      "text/plain": [
       "               score           SubjectId\n",
       "content_id                              \n",
       "185         2.953835   [3, 32, 144, 204]\n",
       "525         0.766846    [3, 32, 42, 212]\n",
       "157         0.374250  [3, 32, 144, 1203]"
      ]
     },
     "execution_count": 83,
     "metadata": {},
     "output_type": "execute_result"
    }
   ],
   "source": [
    "# Recommender\n",
    "\n",
    "rec = recommender_for_user(UserId         = 4, \n",
    "                     interact_matrix = cf_preds_df, \n",
    "                     df_content      = articles_df)\n",
    "pd.DataFrame(rec)"
   ]
  },
  {
   "cell_type": "code",
   "execution_count": null,
   "id": "9a290cda",
   "metadata": {},
   "outputs": [],
   "source": []
  },
  {
   "cell_type": "code",
   "execution_count": 84,
   "id": "47a0ad8b",
   "metadata": {},
   "outputs": [
    {
     "data": {
      "text/plain": [
       "['[3, 32, 144, 204]', '[3, 32, 42, 212]', '[3, 32, 144, 1203]']"
      ]
     },
     "execution_count": 84,
     "metadata": {},
     "output_type": "execute_result"
    }
   ],
   "source": [
    "rec_content_pretty_name = list(rec['SubjectId'])\n",
    "rec_content_pretty_name"
   ]
  },
  {
   "cell_type": "code",
   "execution_count": null,
   "id": "7adb59b6",
   "metadata": {},
   "outputs": [],
   "source": [
    "subjects = df2.loc[df2['SubjectId'] == rec_content_pretty_name]\n",
    "subjects = subjects[['SubjectId','content_name']]"
   ]
  },
  {
   "cell_type": "code",
   "execution_count": 54,
   "id": "6a009249",
   "metadata": {},
   "outputs": [
    {
     "data": {
      "text/html": [
       "<div>\n",
       "<style scoped>\n",
       "    .dataframe tbody tr th:only-of-type {\n",
       "        vertical-align: middle;\n",
       "    }\n",
       "\n",
       "    .dataframe tbody tr th {\n",
       "        vertical-align: top;\n",
       "    }\n",
       "\n",
       "    .dataframe thead th {\n",
       "        text-align: right;\n",
       "    }\n",
       "</style>\n",
       "<table border=\"1\" class=\"dataframe\">\n",
       "  <thead>\n",
       "    <tr style=\"text-align: right;\">\n",
       "      <th></th>\n",
       "      <th>UserId</th>\n",
       "      <th>SubjectId</th>\n",
       "      <th>IsCorrect</th>\n",
       "      <th>content_id</th>\n",
       "    </tr>\n",
       "  </thead>\n",
       "  <tbody>\n",
       "  </tbody>\n",
       "</table>\n",
       "</div>"
      ],
      "text/plain": [
       "Empty DataFrame\n",
       "Columns: [UserId, SubjectId, IsCorrect, content_id]\n",
       "Index: []"
      ]
     },
     "execution_count": 54,
     "metadata": {},
     "output_type": "execute_result"
    }
   ],
   "source": [
    "select_rows = xtest_df.loc[(xtest_df['SubjectId'] == '[3, 32, 144, 1203]')\n",
    "                           & (xtest_df['UserId'] == 4)]\n",
    "select_rows"
   ]
  },
  {
   "cell_type": "markdown",
   "id": "7182c041",
   "metadata": {},
   "source": [
    "#### Test 2"
   ]
  },
  {
   "cell_type": "code",
   "execution_count": 69,
   "id": "0022423e",
   "metadata": {},
   "outputs": [
    {
     "data": {
      "text/html": [
       "<div>\n",
       "<style scoped>\n",
       "    .dataframe tbody tr th:only-of-type {\n",
       "        vertical-align: middle;\n",
       "    }\n",
       "\n",
       "    .dataframe tbody tr th {\n",
       "        vertical-align: top;\n",
       "    }\n",
       "\n",
       "    .dataframe thead th {\n",
       "        text-align: right;\n",
       "    }\n",
       "</style>\n",
       "<table border=\"1\" class=\"dataframe\">\n",
       "  <thead>\n",
       "    <tr style=\"text-align: right;\">\n",
       "      <th></th>\n",
       "      <th>score</th>\n",
       "      <th>SubjectId</th>\n",
       "    </tr>\n",
       "    <tr>\n",
       "      <th>content_id</th>\n",
       "      <th></th>\n",
       "      <th></th>\n",
       "    </tr>\n",
       "  </thead>\n",
       "  <tbody>\n",
       "    <tr>\n",
       "      <th>965</th>\n",
       "      <td>6.0</td>\n",
       "      <td>[3, 71, 74, 181]</td>\n",
       "    </tr>\n",
       "    <tr>\n",
       "      <th>521</th>\n",
       "      <td>2.0</td>\n",
       "      <td>[3, 32, 42, 210]</td>\n",
       "    </tr>\n",
       "    <tr>\n",
       "      <th>678</th>\n",
       "      <td>2.0</td>\n",
       "      <td>[3, 49, 50, 152]</td>\n",
       "    </tr>\n",
       "  </tbody>\n",
       "</table>\n",
       "</div>"
      ],
      "text/plain": [
       "            score         SubjectId\n",
       "content_id                         \n",
       "965           6.0  [3, 71, 74, 181]\n",
       "521           2.0  [3, 32, 42, 210]\n",
       "678           2.0  [3, 49, 50, 152]"
      ]
     },
     "execution_count": 69,
     "metadata": {},
     "output_type": "execute_result"
    }
   ],
   "source": [
    "# Content previously learned by the user\n",
    "recommender_for_user(UserId         = 118963, \n",
    "                     interact_matrix = xtest_df_matrix, \n",
    "                     df_content      = articles_df)"
   ]
  },
  {
   "cell_type": "code",
   "execution_count": 70,
   "id": "007d948f",
   "metadata": {},
   "outputs": [
    {
     "data": {
      "text/html": [
       "<div>\n",
       "<style scoped>\n",
       "    .dataframe tbody tr th:only-of-type {\n",
       "        vertical-align: middle;\n",
       "    }\n",
       "\n",
       "    .dataframe tbody tr th {\n",
       "        vertical-align: top;\n",
       "    }\n",
       "\n",
       "    .dataframe thead th {\n",
       "        text-align: right;\n",
       "    }\n",
       "</style>\n",
       "<table border=\"1\" class=\"dataframe\">\n",
       "  <thead>\n",
       "    <tr style=\"text-align: right;\">\n",
       "      <th></th>\n",
       "      <th>score</th>\n",
       "      <th>SubjectId</th>\n",
       "    </tr>\n",
       "    <tr>\n",
       "      <th>content_id</th>\n",
       "      <th></th>\n",
       "      <th></th>\n",
       "    </tr>\n",
       "  </thead>\n",
       "  <tbody>\n",
       "    <tr>\n",
       "      <th>965</th>\n",
       "      <td>5.973893</td>\n",
       "      <td>[3, 71, 74, 181]</td>\n",
       "    </tr>\n",
       "    <tr>\n",
       "      <th>678</th>\n",
       "      <td>2.033525</td>\n",
       "      <td>[3, 49, 50, 152]</td>\n",
       "    </tr>\n",
       "    <tr>\n",
       "      <th>521</th>\n",
       "      <td>1.954723</td>\n",
       "      <td>[3, 32, 42, 210]</td>\n",
       "    </tr>\n",
       "  </tbody>\n",
       "</table>\n",
       "</div>"
      ],
      "text/plain": [
       "               score         SubjectId\n",
       "content_id                            \n",
       "965         5.973893  [3, 71, 74, 181]\n",
       "678         2.033525  [3, 49, 50, 152]\n",
       "521         1.954723  [3, 32, 42, 210]"
      ]
     },
     "execution_count": 70,
     "metadata": {},
     "output_type": "execute_result"
    }
   ],
   "source": [
    "# Recommender\n",
    "\n",
    "rec = recommender_for_user(UserId         = 118963, \n",
    "                     interact_matrix = cf_preds_df, \n",
    "                     df_content      = articles_df)\n",
    "pd.DataFrame(rec)"
   ]
  },
  {
   "cell_type": "code",
   "execution_count": null,
   "id": "7e6631f6",
   "metadata": {},
   "outputs": [],
   "source": []
  }
 ],
 "metadata": {
  "colab": {
   "name": "Copy of AutoRec (Part2).ipynb",
   "provenance": []
  },
  "kernelspec": {
   "display_name": "Python 3 (ipykernel)",
   "language": "python",
   "name": "python3"
  },
  "language_info": {
   "codemirror_mode": {
    "name": "ipython",
    "version": 3
   },
   "file_extension": ".py",
   "mimetype": "text/x-python",
   "name": "python",
   "nbconvert_exporter": "python",
   "pygments_lexer": "ipython3",
   "version": "3.9.7"
  }
 },
 "nbformat": 4,
 "nbformat_minor": 5
}
